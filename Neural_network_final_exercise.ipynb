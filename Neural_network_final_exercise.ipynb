{
  "nbformat": 4,
  "nbformat_minor": 0,
  "metadata": {
    "colab": {
      "name": "Neural network final exercise.ipynb",
      "provenance": [],
      "collapsed_sections": [],
      "authorship_tag": "ABX9TyPkqEYsaov+YMAnJkB51R61",
      "include_colab_link": true
    },
    "kernelspec": {
      "name": "python3",
      "display_name": "Python 3"
    },
    "language_info": {
      "name": "python"
    }
  },
  "cells": [
    {
      "cell_type": "markdown",
      "metadata": {
        "id": "view-in-github",
        "colab_type": "text"
      },
      "source": [
        "<a href=\"https://colab.research.google.com/github/AInitikesh/Seminar/blob/main/Neural_network_final_exercise.ipynb\" target=\"_parent\"><img src=\"https://colab.research.google.com/assets/colab-badge.svg\" alt=\"Open In Colab\"/></a>"
      ]
    },
    {
      "cell_type": "code",
      "metadata": {
        "id": "BM9XtvVt-fUZ"
      },
      "source": [
        "import numpy as np\n",
        "from tensorflow import keras\n",
        "from tensorflow.keras import layers, datasets"
      ],
      "execution_count": null,
      "outputs": []
    },
    {
      "cell_type": "code",
      "metadata": {
        "colab": {
          "base_uri": "https://localhost:8080/"
        },
        "id": "Aot4z1EmPUSs",
        "outputId": "58fdb535-311e-4db4-ab74-f30414c7dc31"
      },
      "source": [
        "# Model / data parameters\n",
        "num_classes = 10\n",
        "input_shape = (28, 28, 1)\n",
        "\n",
        "# the data, split between train and test sets\n",
        "(x_train, y_train), (x_test, y_test) = keras.datasets.mnist.load_data()\n",
        "\n",
        "# Scale images to the [0, 1] range\n",
        "x_train = x_train.astype(\"float32\") / 255\n",
        "x_test = x_test.astype(\"float32\") / 255\n",
        "# Make sure images have shape (28, 28, 1)\n",
        "x_train = np.expand_dims(x_train, -1)\n",
        "x_test = np.expand_dims(x_test, -1)\n",
        "print(\"x_train shape:\", x_train.shape)\n",
        "print(x_train.shape[0], \"train samples\")\n",
        "print(x_test.shape[0], \"test samples\")\n",
        "\n",
        "\n",
        "# convert class vectors to binary class matrices\n",
        "y_train = keras.utils.to_categorical(y_train, num_classes)\n",
        "y_test = keras.utils.to_categorical(y_test, num_classes)"
      ],
      "execution_count": null,
      "outputs": [
        {
          "output_type": "stream",
          "text": [
            "Downloading data from https://storage.googleapis.com/tensorflow/tf-keras-datasets/mnist.npz\n",
            "11493376/11490434 [==============================] - 0s 0us/step\n",
            "x_train shape: (60000, 28, 28, 1)\n",
            "60000 train samples\n",
            "10000 test samples\n"
          ],
          "name": "stdout"
        }
      ]
    },
    {
      "cell_type": "code",
      "metadata": {
        "colab": {
          "base_uri": "https://localhost:8080/"
        },
        "id": "XFvOhHLPOLle",
        "outputId": "8fe81757-bd89-4433-87ac-73d8167ca431"
      },
      "source": [
        "model = keras.Sequential()\n",
        "model.add(layers.Input(shape=input_shape))\n",
        "model.add(layers.Flatten())\n",
        "model.add(layers.Dense(32, input_dim = 28 * 28, activation= 'relu'))\n",
        "model.add(layers.Dense(64, activation = 'relu'))\n",
        "model.add(layers.Dense(10, activation = 'softmax'))"
      ],
      "execution_count": null,
      "outputs": [
        {
          "output_type": "stream",
          "text": [
            "WARNING:tensorflow:Please add `keras.layers.InputLayer` instead of `keras.Input` to Sequential model. `keras.Input` is intended to be used by Functional model.\n"
          ],
          "name": "stdout"
        }
      ]
    },
    {
      "cell_type": "code",
      "metadata": {
        "colab": {
          "base_uri": "https://localhost:8080/"
        },
        "id": "KPi2Ois-cypR",
        "outputId": "e88c6212-0003-427d-a9b0-27417a9a76d9"
      },
      "source": [
        "model.summary()"
      ],
      "execution_count": null,
      "outputs": [
        {
          "output_type": "stream",
          "text": [
            "Model: \"sequential_4\"\n",
            "_________________________________________________________________\n",
            "Layer (type)                 Output Shape              Param #   \n",
            "=================================================================\n",
            "flatten (Flatten)            (None, 784)               0         \n",
            "_________________________________________________________________\n",
            "dense_9 (Dense)              (None, 32)                25120     \n",
            "_________________________________________________________________\n",
            "dense_10 (Dense)             (None, 64)                2112      \n",
            "_________________________________________________________________\n",
            "dense_11 (Dense)             (None, 10)                650       \n",
            "=================================================================\n",
            "Total params: 27,882\n",
            "Trainable params: 27,882\n",
            "Non-trainable params: 0\n",
            "_________________________________________________________________\n"
          ],
          "name": "stdout"
        }
      ]
    },
    {
      "cell_type": "code",
      "metadata": {
        "id": "PzdYELXYbQsw"
      },
      "source": [
        "model.compile(loss=\"categorical_crossentropy\", optimizer=\"adam\", metrics=[\"accuracy\"])"
      ],
      "execution_count": null,
      "outputs": []
    },
    {
      "cell_type": "code",
      "metadata": {
        "colab": {
          "base_uri": "https://localhost:8080/"
        },
        "id": "BCtFtA1LbWA6",
        "outputId": "54320f11-040d-4925-dac1-77df5bbecc91"
      },
      "source": [
        "batch_size = 128\n",
        "epochs = 15\n",
        "model.fit(x_train, y_train, batch_size=batch_size, epochs=epochs, validation_split=0.1)"
      ],
      "execution_count": null,
      "outputs": [
        {
          "output_type": "stream",
          "text": [
            "Epoch 1/15\n",
            "422/422 [==============================] - 2s 3ms/step - loss: 0.4949 - accuracy: 0.8602 - val_loss: 0.2081 - val_accuracy: 0.9417\n",
            "Epoch 2/15\n",
            "422/422 [==============================] - 1s 2ms/step - loss: 0.2181 - accuracy: 0.9373 - val_loss: 0.1570 - val_accuracy: 0.9553\n",
            "Epoch 3/15\n",
            "422/422 [==============================] - 1s 2ms/step - loss: 0.1671 - accuracy: 0.9512 - val_loss: 0.1280 - val_accuracy: 0.9633\n",
            "Epoch 4/15\n",
            "422/422 [==============================] - 1s 2ms/step - loss: 0.1375 - accuracy: 0.9591 - val_loss: 0.1187 - val_accuracy: 0.9670\n",
            "Epoch 5/15\n",
            "422/422 [==============================] - 1s 2ms/step - loss: 0.1197 - accuracy: 0.9650 - val_loss: 0.1138 - val_accuracy: 0.9663\n",
            "Epoch 6/15\n",
            "422/422 [==============================] - 1s 2ms/step - loss: 0.1051 - accuracy: 0.9691 - val_loss: 0.1033 - val_accuracy: 0.9708\n",
            "Epoch 7/15\n",
            "422/422 [==============================] - 1s 2ms/step - loss: 0.0942 - accuracy: 0.9715 - val_loss: 0.0987 - val_accuracy: 0.9710\n",
            "Epoch 8/15\n",
            "422/422 [==============================] - 1s 2ms/step - loss: 0.0856 - accuracy: 0.9735 - val_loss: 0.1027 - val_accuracy: 0.9705\n",
            "Epoch 9/15\n",
            "422/422 [==============================] - 1s 2ms/step - loss: 0.0772 - accuracy: 0.9763 - val_loss: 0.0944 - val_accuracy: 0.9727\n",
            "Epoch 10/15\n",
            "422/422 [==============================] - 1s 2ms/step - loss: 0.0713 - accuracy: 0.9785 - val_loss: 0.0995 - val_accuracy: 0.9727\n",
            "Epoch 11/15\n",
            "422/422 [==============================] - 1s 2ms/step - loss: 0.0661 - accuracy: 0.9790 - val_loss: 0.0979 - val_accuracy: 0.9723\n",
            "Epoch 12/15\n",
            "422/422 [==============================] - 1s 2ms/step - loss: 0.0600 - accuracy: 0.9815 - val_loss: 0.0985 - val_accuracy: 0.9725\n",
            "Epoch 13/15\n",
            "422/422 [==============================] - 1s 2ms/step - loss: 0.0563 - accuracy: 0.9824 - val_loss: 0.0977 - val_accuracy: 0.9735\n",
            "Epoch 14/15\n",
            "422/422 [==============================] - 1s 2ms/step - loss: 0.0519 - accuracy: 0.9836 - val_loss: 0.1131 - val_accuracy: 0.9692\n",
            "Epoch 15/15\n",
            "422/422 [==============================] - 1s 2ms/step - loss: 0.0482 - accuracy: 0.9848 - val_loss: 0.0926 - val_accuracy: 0.9742\n"
          ],
          "name": "stdout"
        },
        {
          "output_type": "execute_result",
          "data": {
            "text/plain": [
              "<tensorflow.python.keras.callbacks.History at 0x7f13614ee190>"
            ]
          },
          "metadata": {
            "tags": []
          },
          "execution_count": 41
        }
      ]
    },
    {
      "cell_type": "code",
      "metadata": {
        "colab": {
          "base_uri": "https://localhost:8080/"
        },
        "id": "0Ds6yjkxbYbr",
        "outputId": "8e70a917-3b4e-49a6-f534-f00f9f44cee2"
      },
      "source": [
        "score = model.evaluate(x_test, y_test, verbose=0)\n",
        "print(\"Test loss:\", score[0])\n",
        "print(\"Test accuracy:\", score[1])"
      ],
      "execution_count": null,
      "outputs": [
        {
          "output_type": "stream",
          "text": [
            "Test loss: 0.103232741355896\n",
            "Test accuracy: 0.9710999727249146\n"
          ],
          "name": "stdout"
        }
      ]
    },
    {
      "cell_type": "code",
      "metadata": {
        "id": "O25-4Zfdc-Ua"
      },
      "source": [
        "image = np.expand_dims(x_test[1], axis=0)"
      ],
      "execution_count": null,
      "outputs": []
    },
    {
      "cell_type": "code",
      "metadata": {
        "colab": {
          "base_uri": "https://localhost:8080/",
          "height": 282
        },
        "id": "zw1F9sFkdBQu",
        "outputId": "8ad84274-0cd2-4b27-b2ad-ad70e3fae4fc"
      },
      "source": [
        "import matplotlib.pyplot as plt\n",
        "plt.imshow(x_test[1].reshape((28,28)))"
      ],
      "execution_count": null,
      "outputs": [
        {
          "output_type": "execute_result",
          "data": {
            "text/plain": [
              "<matplotlib.image.AxesImage at 0x7f1359ff1c50>"
            ]
          },
          "metadata": {
            "tags": []
          },
          "execution_count": 65
        },
        {
          "output_type": "display_data",
          "data": {
            "image/png": "[encoded data removed]",
            "text/plain": [
              "<Figure size 432x288 with 1 Axes>"
            ]
          },
          "metadata": {
            "tags": [],
            "needs_background": "light"
          }
        }
      ]
    },
    {
      "cell_type": "code",
      "metadata": {
        "id": "IEHm7nYidlkh"
      },
      "source": [
        "class_prob = model.predict(image)"
      ],
      "execution_count": null,
      "outputs": []
    },
    {
      "cell_type": "code",
      "metadata": {
        "colab": {
          "base_uri": "https://localhost:8080/"
        },
        "id": "clMD_LT-dzUv",
        "outputId": "01a38f24-7f01-4ebe-9baa-5c8854f7bd4f"
      },
      "source": [
        "print(class_prob)"
      ],
      "execution_count": null,
      "outputs": [
        {
          "output_type": "stream",
          "text": [
            "[[1.10658305e-11 1.94030465e-04 9.99805868e-01 8.19755783e-08\n",
            "  4.90257058e-16 5.53901586e-12 5.40457019e-11 1.99275102e-12\n",
            "  2.22490719e-08 7.86467031e-18]]\n"
          ],
          "name": "stdout"
        }
      ]
    },
    {
      "cell_type": "code",
      "metadata": {
        "colab": {
          "base_uri": "https://localhost:8080/"
        },
        "id": "v1dBGLHOd1Uo",
        "outputId": "d89f0309-51e2-4b2a-ce31-f889f52ebd15"
      },
      "source": [
        "np.argmax(class_prob)"
      ],
      "execution_count": null,
      "outputs": [
        {
          "output_type": "execute_result",
          "data": {
            "text/plain": [
              "2"
            ]
          },
          "metadata": {
            "tags": []
          },
          "execution_count": 68
        }
      ]
    },
    {
      "cell_type": "markdown",
      "metadata": {
        "id": "Z0sRZca8m1Hz"
      },
      "source": [
        "# Introduction to Computer vision"
      ]
    },
    {
      "cell_type": "code",
      "metadata": {
        "id": "Ozof5U8Cd44J"
      },
      "source": [
        ""
      ],
      "execution_count": null,
      "outputs": []
    }
  ]
}